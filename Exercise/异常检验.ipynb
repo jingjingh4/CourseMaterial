{
 "cells": [
  {
   "cell_type": "markdown",
   "metadata": {},
   "source": [
    "# $\\rm Debug\\ 与常见异常$\n",
    "\n",
    "**目录**\n",
    "- [SyntaxError](#SyntaxError)\n",
    "- [TypeError](#TypeError)\n",
    "- [NameError](#NameError)\n",
    "- [AttributeError](#AttributeError)\n",
    "- [LookupError](#LookupError)\n",
    "- [ValueError](#ValueError)\n",
    "- [ImportError](#ImportError)\n",
    "- [ArithmeticError](#ArithmeticError)\n",
    "- [其他异常](#其他异常)\n",
    "- [FileNotFoundError](#FileNotFoundError)\n",
    "\n",
    "一个代码和脚本的正确性，需要从语法层面和语义层面的正确性才能算是有正确功能。本节内容主要从代码角度来谈常见异常，首先分析异常产生原因，产生位置；最终需要采用什么样的方法来解决 Bug"
   ]
  },
  {
   "cell_type": "markdown",
   "metadata": {},
   "source": [
    "## 使用说明\n",
    "### 测试说明\n",
    "每个 `if False: if_body` 是一个块，可以将 False 修改为 True 来运行语句来进行测试。例如\n",
    "\n",
    "```\n",
    "if False:\n",
    "    test = [2, 3, 4]\n",
    "    for value in test:\n",
    "        print(value)\n",
    "```\n",
    "\n",
    "上面的语句需要将 调整为如下方式即可进行测试：\n",
    "\n",
    "```\n",
    "if True:\n",
    "    test = [2, 3, 4]\n",
    "    for value in test:\n",
    "        print(value)\n",
    "```\n",
    "\n",
    "### Cell 说明\n",
    "一个板块包括一般两个 cell，第一个 cell 是错误演示说明，可以在第一个 cell 中查找错误；第二个 cell 是已经修改的参考答案"
   ]
  },
  {
   "cell_type": "code",
   "execution_count": null,
   "metadata": {},
   "outputs": [],
   "source": [
    "import pandas as pd\n",
    "import numpy as np\n",
    "import sys\n",
    "from sklearn.linear_model import LinearRegression"
   ]
  },
  {
   "cell_type": "markdown",
   "metadata": {},
   "source": [
    "<a id=\"SyntaxError\"></a>\n",
    "## $\\rm I.\\ SyntaxError$\n",
    "当解释器遇见语法错误的时候，将产生该错误"
   ]
  },
  {
   "cell_type": "markdown",
   "metadata": {},
   "source": [
    "### $\\rm 1.1\\ SyntaxError:\\ invalid\\ syntax$\n",
    "表示语法错误：无效的语法。可能导致的原因 <font color='grey'>多余符号、函数名称错误、缺少必要的符号、关键字做自定义名称、其他不正确语法（沿袭其他语言语法导致错误）</font>"
   ]
  },
  {
   "cell_type": "code",
   "execution_count": null,
   "metadata": {},
   "outputs": [],
   "source": [
    "# 多添加了括号\n",
    "if True:\n",
    "    print(12 / 0))\n",
    "    \n",
    "# 缺少冒号\n",
    "if False:\n",
    "    n = 1\n",
    "    while n < 3\n",
    "        print(\"Hello world\")\n",
    "        n += 1\n",
    "# 以关键字变量名   \n",
    "if False:\n",
    "    class = 'algebra'\n",
    "    print(class)\n",
    "# 其他语言习惯\n",
    "if False:\n",
    "    test = 1\n",
    "    test ++"
   ]
  },
  {
   "cell_type": "code",
   "execution_count": null,
   "metadata": {},
   "outputs": [],
   "source": [
    "if False:\n",
    "    print(12 / 0)\n",
    "    \n",
    "if False:\n",
    "    n = 1\n",
    "    while n < 3:\n",
    "        print(\"Hello world\")\n",
    "        n += 1\n",
    "        \n",
    "if False:\n",
    "    non_class = 'algebra'\n",
    "    print(non_class)\n",
    "    \n",
    "if False:\n",
    "    test = 1\n",
    "    test += 1"
   ]
  },
  {
   "cell_type": "markdown",
   "metadata": {},
   "source": [
    "### $\\rm 1.2\\ SyntaxError: EOL$\n",
    "行内出现错误<font color=''>表示行内出现缺失引号、引号不一致、括号等导致的语法错误</font>。可能的警示信息如下：\n",
    "\n",
    "* `EOL while scanning string literal`\n",
    "* `unexpected EOF while parsing`\n"
   ]
  },
  {
   "cell_type": "code",
   "execution_count": null,
   "metadata": {},
   "outputs": [],
   "source": [
    "# 引号不全\n",
    "if False:\n",
    "    print(\"Hello World)\n",
    "\n",
    "if False:\n",
    "    print(\"hello')\n",
    "\n",
    "# 括号不全\n",
    "if False:\n",
    "    print(\"hel\""
   ]
  },
  {
   "cell_type": "code",
   "execution_count": null,
   "metadata": {},
   "outputs": [],
   "source": [
    "if False:\n",
    "    print(\"Hello World\")\n",
    "    \n",
    "if False:\n",
    "    print(\"hello world\")\n",
    "    \n",
    "if False:\n",
    "    print(\"hel\")"
   ]
  },
  {
   "cell_type": "markdown",
   "metadata": {},
   "source": [
    "### $\\rm 1.3\\ SyntaxError: IndentationError$\n",
    "缩进错误，也属于 SyntaxError 的一种。可能会看见以下多种缩径错误，<font color='white'>包括应当缩进没有缩径，缩径数量不一致，不应当缩进的地方缩进了</font>。\n",
    "\n",
    "* `expected an indented block`\n",
    "* `unindent does not match any outer indentation level`\n",
    "* `unexpected indent`"
   ]
  },
  {
   "cell_type": "code",
   "execution_count": null,
   "metadata": {},
   "outputs": [],
   "source": [
    "# expected an indented block\n",
    "if False:\n",
    "    test = [2, 3, 4]\n",
    "    for value in test:\n",
    "    print(value)\n",
    "    \n",
    "# unindent does not match any outer indentation level\n",
    "if False:\n",
    "    if spam == 42:\n",
    "        print('Hello!')\n",
    "      print('Howdy!')\n",
    "\n",
    "# unexpected indent\n",
    "if False:\n",
    "    print('Hello!')\n",
    "        print('Howdy!')"
   ]
  },
  {
   "cell_type": "code",
   "execution_count": null,
   "metadata": {},
   "outputs": [],
   "source": [
    "if False:\n",
    "    test = [2, 3, 4]\n",
    "    for value in test:\n",
    "        print(value)\n",
    "        \n",
    "if False:\n",
    "    spam = 42\n",
    "    if spam == 42:\n",
    "        print('Hello!')\n",
    "        print('Howdy!')\n",
    "        \n",
    "if False:\n",
    "    print('Hello!')\n",
    "    print('Howdy!')"
   ]
  },
  {
   "cell_type": "markdown",
   "metadata": {},
   "source": [
    "### $\\rm 1.3\\ SyntaxError: TabError$\n",
    "缩进错误，也属于 SyntaxError 的一种。这个错误是因为空格和 `Tab` 混用导致的异常。\n",
    "\n",
    "* `Inconsistent use of tabs and spaces in indentation`\n",
    "* `IndentationError: unindent does not match any outer indentation level`"
   ]
  },
  {
   "cell_type": "markdown",
   "metadata": {},
   "source": [
    "<a id=\"TypeError\"></a>\n",
    "## $\\rm II.\\ TypeError$ \n",
    "类型错误，出现在运算中类型不合适的错误，函数中需要的参数数据类型不一致的错误。可能出现的错误类型\n",
    "\n",
    "* `'str' object does not support item assignment`, 类型处理不合适\n",
    "* `must be str, not int`， 运算对象不合适\n",
    "* `object is not callable`， 对象使用不合适，例如数据对象被当作可调用对象\n",
    "* `indices must be integers`，索引取值非整型数据"
   ]
  },
  {
   "cell_type": "code",
   "execution_count": null,
   "metadata": {},
   "outputs": [],
   "source": [
    "if False:\n",
    "    spam = 'I have a pet cat.'\n",
    "    spam[13] = 'r'\n",
    "    print(spam)\n",
    "    \n",
    "if False:\n",
    "    eggs = 12\n",
    "    print('I have ' + eggs + ' eggs.')\n",
    "    \n",
    "if False:\n",
    "    test = \"this is string\"\n",
    "    print(test())\n",
    "\n",
    "# 浮点型数据做索引值\n",
    "if False:\n",
    "    print(\"Hello\"[1.0])"
   ]
  },
  {
   "cell_type": "code",
   "execution_count": null,
   "metadata": {},
   "outputs": [],
   "source": [
    "if False:\n",
    "    spam = 'I have a pet cat.'\n",
    "    spam = spam[:13] + 'r' + spam[14:]\n",
    "    print(spam)\n",
    "    \n",
    "if False:\n",
    "    eggs = 12\n",
    "    print('I have ' + str(eggs) + ' eggs.')\n",
    "    \n",
    "if False:\n",
    "    test = \"this is string\"\n",
    "    print(test)\n",
    "    \n",
    "if False:\n",
    "    print(\"Hello\"[1])"
   ]
  },
  {
   "cell_type": "markdown",
   "metadata": {},
   "source": [
    "<a id=\"NameError\"></a>\n",
    "## $\\rm III.\\ NameError$ \n",
    "名称错误，是发生在局部变量名和全局变量名没有被发现\n",
    "\n",
    "* ` name *** is not defined`"
   ]
  },
  {
   "cell_type": "code",
   "execution_count": null,
   "metadata": {},
   "outputs": [],
   "source": [
    "if False:\n",
    "    print(test2)"
   ]
  },
  {
   "cell_type": "code",
   "execution_count": null,
   "metadata": {},
   "outputs": [],
   "source": [
    "if False:\n",
    "    test2 = 12\n",
    "    \n",
    "    del test2\n",
    "    print(test2)"
   ]
  },
  {
   "cell_type": "markdown",
   "metadata": {},
   "source": [
    "### $\\rm 3.1\\ NameError:UnboundLocalError$ \n",
    "局部变量变量存在问题，发生在函数或者方法中。因为局部变量和全局变量存在重名，同时在局部作用域中没有先赋值就开始使用。它是 NameError 异常的子类\n",
    "\n",
    "* `local variable referenced before assignment`"
   ]
  },
  {
   "cell_type": "code",
   "execution_count": null,
   "metadata": {},
   "outputs": [],
   "source": [
    "someVar = 42\n",
    "def myFunction():\n",
    "    print(someVar)\n",
    "    someVar = 100\n",
    "myFunction()\n",
    "\n",
    "\n",
    "if False:\n",
    "    someVar = 42\n",
    "    def myFunction():\n",
    "        someVar = 100\n",
    "        print(someVar)\n",
    "\n",
    "    myFunction()"
   ]
  },
  {
   "cell_type": "code",
   "execution_count": null,
   "metadata": {},
   "outputs": [],
   "source": [
    "# \n",
    "if False:\n",
    "    someVar = 42\n",
    "    def myFunction():\n",
    "        print(someVar)\n",
    "\n",
    "    myFunction()\n",
    "    \n",
    "if True:\n",
    "    someVar = 42\n",
    "    def myFunction():\n",
    "        someVar = 100\n",
    "        print(someVar)\n",
    "\n",
    "    myFunction()"
   ]
  },
  {
   "cell_type": "markdown",
   "metadata": {},
   "source": [
    "<a id=\"AttributeError\"></a>\n",
    "## $\\rm IV.\\ AttributeError$ \n",
    "当属性引用或者属性赋值失败时，就会出现该异常。常见的情况是数据类型不具有相应的方法或者相应的方法名称使用错误，方法的引用使用 `.method_name()` 方式；另外比较常见的就是导入的模块中，没有相应的属性或者方法\n",
    "\n",
    "* ` *** object has no attribute ***`\n",
    "* ` module *** has no attribute ***`"
   ]
  },
  {
   "cell_type": "code",
   "execution_count": null,
   "metadata": {},
   "outputs": [],
   "source": [
    "# 数据类型方法不正确\n",
    "if False:\n",
    "    \"\".append()\n",
    "# 属性名称或方法名称错误\n",
    "if False:\n",
    "    \"abcd\".upperr()\n",
    "\n",
    "# 模块方法名称不正确\n",
    "if False:\n",
    "    df = pd.con()"
   ]
  },
  {
   "cell_type": "code",
   "execution_count": null,
   "metadata": {},
   "outputs": [],
   "source": [
    "if False:\n",
    "    print(\" \".join([\"a\", 'b']))\n",
    "    \n",
    "if False:\n",
    "    print(\"abcd\".upper())\n",
    "    \n",
    "if False:\n",
    "    df = pd.DataFrame()"
   ]
  },
  {
   "cell_type": "markdown",
   "metadata": {},
   "source": [
    "<a id=\"LookupError\"></a>\n",
    "## $\\rm V.\\ LookupError$ \n",
    "出现在映射和序列中的键或者索引是无效的情况，<font color=''>此外可以通过 [codecs.lookup()](https://docs.python.org/3/library/codecs.html#codecs.lookup) 进行直接产生异常——这个是涉及到编码的问题</font>"
   ]
  },
  {
   "cell_type": "markdown",
   "metadata": {},
   "source": [
    "### $\\rm 5.1\\ IndexError$ \n",
    "发生在序列数据的下标超出了范围，例如索引取值，切片等使用的索引值超过了索引范围。如果索引值是非整型数据将出现 [TypeError](#TypeError)"
   ]
  },
  {
   "cell_type": "code",
   "execution_count": null,
   "metadata": {},
   "outputs": [],
   "source": [
    "if False:\n",
    "    test = ['cat', 'dog', 'mouse']\n",
    "    print(test[5])"
   ]
  },
  {
   "cell_type": "code",
   "execution_count": null,
   "metadata": {},
   "outputs": [],
   "source": [
    "# 需要调整一下索引值即可\n",
    "if False:\n",
    "    test = ['cat', 'dog', 'mouse']\n",
    "    print(test[1])"
   ]
  },
  {
   "cell_type": "markdown",
   "metadata": {},
   "source": [
    "### $\\rm 5.2\\ KeyError$ \n",
    "发生在字典等有映射关系的数据中，在已有的键中没有找到键而报错"
   ]
  },
  {
   "cell_type": "code",
   "execution_count": null,
   "metadata": {},
   "outputs": [],
   "source": [
    "if False:\n",
    "    test_dict = {\"A\": \"hello\", \"B\": \"World\"}\n",
    "    print(test_dict[\"hello\"])\n",
    "    \n",
    "# DataFrame 的列不存在\n",
    "if False:\n",
    "    test = pd.DataFrame(columns=[\"A\", \"B\"])\n",
    "    test[\"C\"]"
   ]
  },
  {
   "cell_type": "code",
   "execution_count": null,
   "metadata": {},
   "outputs": [],
   "source": [
    "# 需要将相应的 key 或者 column 名称调整为已有的方式，⚠️ 某些数据类型具有方法以避免报错，例如字典可以通过 get 的方法来避免报错\n",
    "if False:\n",
    "    test_dict = {\"A\": \"hello\", \"B\": \"World\"}\n",
    "    print(test_dict[\"A\"])\n",
    "    \n",
    "if False:\n",
    "    test = pd.DataFrame(columns=[\"A\", \"B\"])\n",
    "    test[\"A\"]"
   ]
  },
  {
   "cell_type": "markdown",
   "metadata": {},
   "source": [
    "<a id=\"ValueError\"></a>\n",
    "## $\\rm VI.\\ ValueError$ \n",
    "在进行运算或者传入函数的参数，类型是正确的但是值不合适导致的异常。例如在类型转换过程中，字符数据被转换为浮点型数据，字符数据直接转换为整型数据，此外在某些方法中要求数据不能有缺失值和无限值\n",
    "\n",
    "* `could not convert string to float: ***`\n",
    "* `invalid literal for int() with base 10: ***`\n",
    "* `Input contains NaN, infinity or a value too large for dtype(***)`"
   ]
  },
  {
   "cell_type": "code",
   "execution_count": null,
   "metadata": {},
   "outputs": [],
   "source": [
    "if False:\n",
    "    float('a')\n",
    "\n",
    "if False:\n",
    "    int('1.0')\n",
    "    \n",
    "if False:\n",
    "    X = pd.DataFrame([[1, np.nan], [2, 3], [np.nan, 3], [np.nan, 2]])\n",
    "    y = pd.Series([1, 2, 0, 1])\n",
    "\n",
    "    lm = LinearRegression(normalize=True)\n",
    "    lm.fit(X,y)"
   ]
  },
  {
   "cell_type": "code",
   "execution_count": null,
   "metadata": {},
   "outputs": [],
   "source": [
    "if True:\n",
    "    int(float('1.0'))\n",
    "\n",
    "if True:\n",
    "    X = pd.DataFrame([[1, np.nan], [2, 3], [np.nan, 3], [np.nan, 2]])\n",
    "    y = pd.Series([1, 2, 0, 1])\n",
    "    \n",
    "    X = X.fillna(0)\n",
    "    lm = LinearRegression(normalize=True)\n",
    "    lm.fit(X,y)"
   ]
  },
  {
   "cell_type": "markdown",
   "metadata": {},
   "source": [
    "<a id=\"ImportError\"></a>\n",
    "## $\\rm VII.\\ ImportError$ \n",
    "当在使用 import 语句加载模块时出现异常。例如导入不存在的包，模块中没有相应的的子模块时也会出现异常，<font color=\"\">此外在如果路径不正确同样还是会出现该异常——可以通过 sys.path.append(\"module_path\") 来添加模块所在的路径</font>\n",
    "\n",
    "* `No module named ***`\n",
    "* `cannot import name ***`"
   ]
  },
  {
   "cell_type": "code",
   "execution_count": null,
   "metadata": {},
   "outputs": [],
   "source": [
    "# 这里需要使用已有的 model 名称即可\n",
    "if False:\n",
    "    import no_module\n",
    "\n",
    "if False:\n",
    "    from pandas import no_module"
   ]
  },
  {
   "cell_type": "markdown",
   "metadata": {},
   "source": [
    "## $\\rm 7.1\\ ModuleNotFoundError$ \n",
    "它是 ImportError 的子类，发生该异常是因为在 `sys.modules` 的相关路径中没有该模块\n",
    "\n",
    "* `No module named ***`"
   ]
  },
  {
   "cell_type": "code",
   "execution_count": null,
   "metadata": {},
   "outputs": [],
   "source": [
    "# 这里只是演示，只需要将 False 修改为 True 进行测试即可\n",
    "if False:\n",
    "    import config"
   ]
  },
  {
   "cell_type": "markdown",
   "metadata": {},
   "source": [
    "<a id=\"ArithmeticError\"></a>\n",
    "## $\\rm VIII.\\ ArithmeticError$ \n",
    "这个是和算数相关的异常，主要包括了 `OverflowError`， `ZeroDivisionError`，前者主要是因为算数运算的记过过于庞大难以呈现而导致异常，后者是因为分母为 0 而导致的异常"
   ]
  },
  {
   "cell_type": "code",
   "execution_count": null,
   "metadata": {},
   "outputs": [],
   "source": [
    "if False:\n",
    "    print(12 / 0)"
   ]
  },
  {
   "cell_type": "code",
   "execution_count": null,
   "metadata": {},
   "outputs": [],
   "source": [
    "# 这类可以通过异常处理的方式进行解决，也可以需改为其他数值\n",
    "\n",
    "# 方式一\n",
    "if False:\n",
    "    try:\n",
    "        print(12 / 0)\n",
    "    except:\n",
    "        print(\"Denominator is Zero\")\n",
    "\n",
    "# 方式二\n",
    "if False:\n",
    "    print(12 / 2)\n",
    "    "
   ]
  },
  {
   "cell_type": "markdown",
   "metadata": {},
   "source": [
    "<a id=\"其他异常\"></a>\n",
    "## $\\rm IX.\\ 其他异常$ \n",
    "在进行书写代码的过程中，可能会因为需要检查过程中是否正确是使用 `assert` 进行断言测试，同样可能因为需要截断语句运行而使用 `raise` 抛出异常（特别是捕获到异常处理之后，最终还是需要终止后续代码的时候）。此外可能需要临时终止代码运行，而通过键盘操作（按 `Ctrl + c` ）终止代码运行"
   ]
  },
  {
   "cell_type": "markdown",
   "metadata": {},
   "source": [
    "### $\\rm 9.1\\ AssertionError$\n",
    "断言测试产生的异常，一般使用 `assert` 语句进行测试。语法结构为：`assert expression [, result_prommot]`，如果测试表达式通过则不会产生异常，否则会将 `result_promot` 作为 `AssertionError` 的提示信息抛出异常"
   ]
  },
  {
   "cell_type": "code",
   "execution_count": null,
   "metadata": {},
   "outputs": [],
   "source": [
    "# 不需要进行其他调整，这里可以修改 False 为 True 进行测试\n",
    "if False:\n",
    "    assert 2 != 1, \"Test is Wrong\"\n",
    "\n",
    "if False:\n",
    "    assert 2 == 1, \"Test is Wrong\""
   ]
  },
  {
   "cell_type": "markdown",
   "metadata": {},
   "source": [
    "### $\\rm 9.2\\ raise$\n",
    "`raise` 语句是将异常抛出的一种方式，它会出现异常的正常方式进行运行。另外需要⚠️注意 raise 语句后面的需要使用特定的异常类型来输出异常，例如 `Exception(error)`, `ValueError(error)`, `TypeError(error)` 等"
   ]
  },
  {
   "cell_type": "code",
   "execution_count": null,
   "metadata": {},
   "outputs": [],
   "source": [
    "# 不需要进行其他调整，这里可以修改 False 为 True 进行测试\n",
    "if True:\n",
    "    try:\n",
    "        print(2 / 0)\n",
    "    except Exception as err:\n",
    "        print(err)    \n",
    "        raise Exception(err)"
   ]
  },
  {
   "cell_type": "markdown",
   "metadata": {},
   "source": [
    "### $\\rm 9.3\\ KeyboardInterrupt$\n",
    "通过键盘方式终端运行产生的异常，报错信息包括 `KeyboardInterrupt:` 以及发生终止的位置"
   ]
  },
  {
   "cell_type": "markdown",
   "metadata": {},
   "source": [
    "<a id=\"FileNotFoundError\"></a>\n",
    "## $\\rm X.\\ FileNotFoundError$\n",
    "该异常是发生在需要的文件或者目录不存在而发生的异常，这时需要检查一下相应的目录中是否有相应的文件"
   ]
  },
  {
   "cell_type": "code",
   "execution_count": null,
   "metadata": {},
   "outputs": [],
   "source": [
    "# 需要注意修改文件存在路径或者文件存在名称即可\n",
    "if False:\n",
    "    pd.read_csv(\"./test.csv\")"
   ]
  },
  {
   "cell_type": "markdown",
   "metadata": {},
   "source": [
    "![](https://ws1.sinaimg.cn/large/006tNbRwgy1fusth5td2qj30pz092t9k.jpg)"
   ]
  },
  {
   "cell_type": "markdown",
   "metadata": {},
   "source": [
    "## $\\rm A.\\ 参考$\n",
    "1. [3.4. Know Your Error Messages — How to Think like a Computer Scientist: Interactive Edition](http://interactivepython.org/runestone/static/CS152f17/Debugging/KnowyourerrorMessages.html)\n",
    "2. [exceptions – Built-in error classes - Python Module of the Week](https://pymotw.com/2/exceptions/)\n",
    "3. [python - ModuleNotFoundError: No module named x - Stack Overflow](https://stackoverflow.com/questions/43728431/modulenotfounderror-no-module-named-x)\n",
    "4. [Built-in Exceptions — Python 3.7.1rc1 documentation](https://docs.python.org/3/library/exceptions.html#OverflowError)\n",
    "5. [7. Simple statements — Python 3.7.1rc1 documentation](https://docs.python.org/3/reference/simple_stmts.html#raise)"
   ]
  }
 ],
 "metadata": {
  "kernelspec": {
   "display_name": "Python [conda env:anaconda3]",
   "language": "python",
   "name": "conda-env-anaconda3-py"
  },
  "language_info": {
   "codemirror_mode": {
    "name": "ipython",
    "version": 3
   },
   "file_extension": ".py",
   "mimetype": "text/x-python",
   "name": "python",
   "nbconvert_exporter": "python",
   "pygments_lexer": "ipython3",
   "version": "3.6.6"
  }
 },
 "nbformat": 4,
 "nbformat_minor": 2
}
