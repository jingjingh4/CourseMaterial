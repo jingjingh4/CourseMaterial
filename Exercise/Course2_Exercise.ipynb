{
 "cells": [
  {
   "cell_type": "code",
   "execution_count": null,
   "metadata": {
    "code_folding": [
     0
    ]
   },
   "outputs": [],
   "source": [
    "# change the cell width\n",
    "from IPython.core.display import display, HTML\n",
    "display(HTML(\"<style>.container { width:100% !important; }</style>\"))"
   ]
  },
  {
   "cell_type": "code",
   "execution_count": null,
   "metadata": {},
   "outputs": [],
   "source": [
    "import json\n",
    "import pandas as pd\n",
    "from bs4 import BeautifulSoup\n",
    "from xml.etree import cElementTree as ET"
   ]
  },
  {
   "cell_type": "markdown",
   "metadata": {},
   "source": [
    "## API 获取数据\n",
    "\n",
    "[Google 地图 API 演示](http://www.runoob.com/try/try.php?filename=tryhtml_map_first)"
   ]
  },
  {
   "cell_type": "markdown",
   "metadata": {},
   "source": [
    "## XML 与 HTML\n",
    "### XML 文件\n",
    "不论是 XML 还是 HTML 首先需要理解文件结构：\n",
    "\n",
    "```{xml}\n",
    "<?xml version=\"1.0\"?>\n",
    "<data>\n",
    "  <country name=\"Liechtenstein\">\n",
    "    <rank>1</rank>\n",
    "    <year>2008</year>\n",
    "    <gdppc>141100</gdppc>\n",
    "    <neighbor name=\"Austria\" direction=\"E\"/>\n",
    "    <neighbor name=\"Switzerland\" direction=\"W\"/>\n",
    "  </country>\n",
    "  <country name=\"Singapore\">\n",
    "    <rank>4</rank>\n",
    "    <year>2011</year>\n",
    "    <gdppc>59900</gdppc>\n",
    "    <neighbor name=\"Malaysia\" direction=\"N\"/>\n",
    "  </country>\n",
    "  <country name=\"Panama\">\n",
    "    <rank>68</rank>\n",
    "    <year>2011</year>\n",
    "    <gdppc>13600</gdppc>\n",
    "    <neighbor name=\"Costa Rica\" direction=\"W\"/>\n",
    "    <neighbor name=\"Colombia\" direction=\"E\"/>\n",
    "  </country>\n",
    "</data>\n",
    "\n",
    "```\n",
    "需要在理解文件的结构的基础上，去解析数据内容。获取数据的过程中，需要注意 `attribute-value` 和 `text` 两个属性。因此对于 xml 文件读取过程中，注意使用 `getroot()`, `getchildren()` 等方法来访问文件相应的标签，以及使用 `attrib`， `text`来获取相应的数值——前者得到的是一个字典样式的数据，后者是一个数据值"
   ]
  },
  {
   "cell_type": "code",
   "execution_count": null,
   "metadata": {},
   "outputs": [],
   "source": [
    "# 通过 parse 方法来解析文件\n",
    "tree = ET.parse(\"./data/country_data.xml\")"
   ]
  },
  {
   "cell_type": "code",
   "execution_count": null,
   "metadata": {},
   "outputs": [],
   "source": [
    "# 通过 getroot 获取数据的 root，这样得到完整的数据\n",
    "root = tree.getroot()\n",
    "\n",
    "print(\"Get the root:\\n\", root)"
   ]
  },
  {
   "cell_type": "code",
   "execution_count": null,
   "metadata": {},
   "outputs": [],
   "source": [
    "for child in root.getchildren():\n",
    "    # country 的属性 name 是对应的值，没有其他 text 值\n",
    "    print(\"Attribute country:\\t\", child.attrib)\n",
    "    for low_child in child.findall(\"year\"):\n",
    "        # 在每个 country 下，year 有相应的 text 值，而无其他属性值\n",
    "        print(\"Country year:\\t\", low_child.text)"
   ]
  },
  {
   "cell_type": "markdown",
   "metadata": {},
   "source": [
    "### HTML 文件\n",
    "HTML 文件在结构上和 XML 相似，所以这里不再讲解关于结构上的问题，而主要关注 HTML 中的三个重要的三个，Element、Tag 以及 Attribute，关于三者的内容可以从下图中去了解：\n",
    "![](https://www.techfry.com/images/php/html-element.gif)\n",
    "其中 Attribute 部分需要注意使用 Class 和 ID 进行元素筛选时——ID 具有唯一性，使用 `find_all()`, `find()` 等方法——需要注意传入参数；在进行节点选择时，使用 `find_parents()`, `find_parent()`, `find_next_sibling()` , `next_siblings`, `previous_element` 等方法或者属性进行遍历或者搜索，详情参考 [Beautiful Soup 文档](https://www.crummy.com/software/BeautifulSoup/bs4/doc/index.zh.html)"
   ]
  },
  {
   "cell_type": "code",
   "execution_count": null,
   "metadata": {},
   "outputs": [],
   "source": [
    "from pprint import pprint"
   ]
  },
  {
   "cell_type": "code",
   "execution_count": null,
   "metadata": {},
   "outputs": [],
   "source": [
    "with open(\"./data/beautifule.html\", \"r\") as file:\n",
    "    soup = BeautifulSoup(file, \"lxml\")"
   ]
  },
  {
   "cell_type": "code",
   "execution_count": null,
   "metadata": {},
   "outputs": [],
   "source": [
    "internal_link = soup.find_all(\"a\", class_=\"reference internal\")\n",
    "internal_link"
   ]
  },
  {
   "cell_type": "code",
   "execution_count": null,
   "metadata": {},
   "outputs": [],
   "source": [
    "internal_link[0].text"
   ]
  },
  {
   "cell_type": "code",
   "execution_count": null,
   "metadata": {
    "scrolled": true
   },
   "outputs": [],
   "source": [
    "# 获取属性值\n",
    "internal_link[0].attrs"
   ]
  },
  {
   "cell_type": "code",
   "execution_count": null,
   "metadata": {
    "scrolled": false
   },
   "outputs": [],
   "source": [
    "# 使用 ID 值筛选\n",
    "encoding_id = soup.find_all(id=\"encodings\")\n",
    "len(encoding_id)"
   ]
  },
  {
   "cell_type": "code",
   "execution_count": null,
   "metadata": {},
   "outputs": [],
   "source": [
    "encoding_id[0].contents"
   ]
  },
  {
   "cell_type": "markdown",
   "metadata": {},
   "source": [
    "## Json 文件\n",
    "首先来了解 json 文件的结构，json 有存储形式存在差异，下面是以 array 和 字典形式（即 **records** 形式存储）——` [{column -> value}, ... , {column -> value}]`\n",
    "```{json}\n",
    "[\n",
    "    {\n",
    "        \"Team Name\": \"Leicester City\",\n",
    "        \"Wins\": 23,\n",
    "        \"Draws\": 12,\n",
    "        \"Losses\": 3\n",
    "    },\n",
    "    {\n",
    "        \"Team Name\": \"Arsenal\",\n",
    "        \"Wins\": 20,\n",
    "        \"Draws\": 11,\n",
    "        \"Losses\": 7\n",
    "    }\n",
    "]\n",
    "```\n",
    "此外还有以字典嵌套形式（即 **index** ——`{index -> {column -> value}}` 或者 **columns** ——`{column -> {index -> value}}` 形式存储）\n",
    "```{json}\n",
    "{\n",
    "    \"Draws\": {\n",
    "        \"0\": 11,\n",
    "        \"1\": 13,\n",
    "    },\n",
    "    \"Losses\": {\n",
    "        \"0\": 7,\n",
    "        \"1\": 6,\n",
    "    },\n",
    "    \"Team Name\": {\n",
    "        \"0\": \"Arsenal\",\n",
    "        \"1\": \"Tottenham Hotspur\",\n",
    "    },\n",
    "    \"Wins\": {\n",
    "        \"0\": 20,\n",
    "        \"1\": 19,\n",
    "    }\n",
    "}\n",
    "```"
   ]
  },
  {
   "cell_type": "code",
   "execution_count": null,
   "metadata": {},
   "outputs": [],
   "source": [
    "filename = \"./data/league.json\""
   ]
  },
  {
   "cell_type": "code",
   "execution_count": null,
   "metadata": {},
   "outputs": [],
   "source": [
    "df = pd.read_json(filename, orient=\"record\")"
   ]
  },
  {
   "cell_type": "code",
   "execution_count": null,
   "metadata": {},
   "outputs": [],
   "source": [
    "df.head()"
   ]
  },
  {
   "cell_type": "markdown",
   "metadata": {},
   "source": [
    "### json 库处理文件\n",
    "对于数据结构整齐的数据，可以直接通过 pandas 的 read_json 方法来获取。对于数据结构不整齐或者想要获得指定的数据，那么可以参考访问字典的方式现将数据筛选出来之后再进行相关的处理。下面将进行指定数据提取的方式获取数据"
   ]
  },
  {
   "cell_type": "code",
   "execution_count": null,
   "metadata": {},
   "outputs": [],
   "source": [
    "with open(filename, \"r\") as file:\n",
    "    print(type(file))\n",
    "    data = json.load(file)"
   ]
  },
  {
   "cell_type": "code",
   "execution_count": null,
   "metadata": {},
   "outputs": [],
   "source": [
    "with open(filename, \"r\") as file:\n",
    "    raw_data = file.read()\n",
    "    print(type(raw_data), raw_data)\n",
    "    data = json.loads(raw_data)"
   ]
  },
  {
   "cell_type": "code",
   "execution_count": null,
   "metadata": {},
   "outputs": [],
   "source": [
    "data"
   ]
  },
  {
   "cell_type": "code",
   "execution_count": null,
   "metadata": {},
   "outputs": [],
   "source": [
    "data_selected = dict()\n",
    "\n",
    "for i in data:\n",
    "    "
   ]
  },
  {
   "cell_type": "markdown",
   "metadata": {},
   "source": [
    "## 正则表达式\n",
    "\n",
    "通过一定的规则来描述或匹配字符串。所以在使用正则表达式过程中需要了解创建模式的基本符号——  `\\w \\W \\d \\D \\s \\S \\t \\r \\n {} [] * + .`\n",
    "\n",
    "### Word\n",
    "* `\\w` 用于匹配字符、数字以及 _\n",
    "* `\\W` 用于匹配不符合 `\\w` 的字符"
   ]
  },
  {
   "cell_type": "code",
   "execution_count": null,
   "metadata": {},
   "outputs": [],
   "source": [
    "import re"
   ]
  },
  {
   "cell_type": "code",
   "execution_count": null,
   "metadata": {},
   "outputs": [],
   "source": [
    "text = \"\\\\1word_ s\\tt\\nn\"\n",
    "\n",
    "def single_reg_search(pattern, text=text):\n",
    "    pattern = re.compile(pattern)\n",
    "    group = pattern.search(text)\n",
    "    \n",
    "    print(group.group())"
   ]
  },
  {
   "cell_type": "code",
   "execution_count": null,
   "metadata": {},
   "outputs": [],
   "source": [
    "# \\w 的匹配\n",
    "text = \"\\\\1word_ s\\tt\\nn\"\n",
    "\n",
    "single_reg_search(r\"\\w\", text)"
   ]
  },
  {
   "cell_type": "code",
   "execution_count": null,
   "metadata": {},
   "outputs": [],
   "source": [
    "# \\W 的匹配\n",
    "text = \"\\\\1word_ s\\tt\\nn\"\n",
    "single_reg_search(r\"\\W\", text)"
   ]
  },
  {
   "cell_type": "markdown",
   "metadata": {},
   "source": [
    "### Digit\n",
    "* `\\d` 用于匹配数字，包括 0 到 9\n",
    "* `\\D` 用于匹配非数字"
   ]
  },
  {
   "cell_type": "code",
   "execution_count": null,
   "metadata": {},
   "outputs": [],
   "source": [
    "# \\d 的匹配\n",
    "text = \"\\\\1word_ s\\tt\\nn\"\n",
    "single_reg_search(r\"\\d\", text)"
   ]
  },
  {
   "cell_type": "code",
   "execution_count": null,
   "metadata": {},
   "outputs": [],
   "source": [
    "# \\D 的匹配\n",
    "text = \"\\\\1word_ s\\tt\\nn\"\n",
    "single_reg_search(r\"\\D\", text)"
   ]
  },
  {
   "cell_type": "markdown",
   "metadata": {},
   "source": [
    "### Space And New Line\n",
    "\n",
    "* ` ` 匹配空格\n",
    "* `\\t` 匹配一个 Tab 键位\n",
    "* `\\n` 匹配换行符\n",
    "* `\\s` 匹配空格、`\\t`、`\\n`\n",
    "* `\\S` 匹配非 `\\s`"
   ]
  },
  {
   "cell_type": "code",
   "execution_count": null,
   "metadata": {},
   "outputs": [],
   "source": [
    "# 匹配 \\t\n",
    "text = \"\\\\1word_ s\\tt\\nn\"\n",
    "single_reg_search(r\"\\t\\w\", text)"
   ]
  },
  {
   "cell_type": "code",
   "execution_count": null,
   "metadata": {},
   "outputs": [],
   "source": [
    "# 匹配 \\n\n",
    "text = \"\\\\1word_ s\\tt\\nn\"\n",
    "single_reg_search(r\"\\n\\w\", text)"
   ]
  },
  {
   "cell_type": "code",
   "execution_count": null,
   "metadata": {},
   "outputs": [],
   "source": [
    "# 匹配 \\s\n",
    "text = \"\\\\1word_ s\\tt\\nn\"\n",
    "single_reg_search(r\"\\s\\w\", text)"
   ]
  },
  {
   "cell_type": "code",
   "execution_count": null,
   "metadata": {},
   "outputs": [],
   "source": [
    "# 匹配 \\S\n",
    "text = \"\\\\1word_ s\\tt\\nn\"\n",
    "single_reg_search(r\"\\S\")"
   ]
  },
  {
   "cell_type": "markdown",
   "metadata": {},
   "source": [
    "### 其他标识符\n",
    "\n",
    "* `[]` 表示匹配的范围\n",
    "* `{}` 表示匹配的数量\n",
    "* `()` 构造一个组\n",
    "* `？` 表示匹配零次和一次\n",
    "* `+` 表示匹配一次或者多次\n",
    "* `*` 表示零次或者多次\n",
    "* `|` 表示 `|` 前后两种情况均可以使用\n",
    "* `^` 有两种功能，一种是表示从行首；另一种是结合其他标识符，表示否定 `[^aeiou]`表示不筛选元音字符\n",
    "* `$` 表示行尾"
   ]
  },
  {
   "cell_type": "code",
   "execution_count": null,
   "metadata": {},
   "outputs": [],
   "source": [
    "# 匹配元音字母\n",
    "text = \"\\\\1word_ s\\tt\\nn\"\n",
    "\n",
    "pattern = re.compile(r'[aeiou]')\n",
    "pattern.search(text).group()"
   ]
  },
  {
   "cell_type": "code",
   "execution_count": null,
   "metadata": {},
   "outputs": [],
   "source": [
    "# 匹配多个字符\n",
    "\n",
    "text = \"\\\\1word_ s\\tt\\nn\"\n",
    "\n",
    "# 匹配一个\n",
    "pattern = re.compile(r'\\w{1}')\n",
    "pattern.search(text).group()"
   ]
  },
  {
   "cell_type": "code",
   "execution_count": null,
   "metadata": {},
   "outputs": [],
   "source": [
    "# 匹配至少一个\n",
    "pattern = re.compile(r'\\w{1,}')\n",
    "pattern.search(text).group()"
   ]
  },
  {
   "cell_type": "code",
   "execution_count": null,
   "metadata": {},
   "outputs": [],
   "source": [
    "# 匹配一个或者三个\n",
    "pattern = re.compile(r'\\w{1,3}')\n",
    "pattern.search(text).group()"
   ]
  },
  {
   "cell_type": "code",
   "execution_count": null,
   "metadata": {},
   "outputs": [],
   "source": [
    "# 使用 + 匹配一次或者多次——解决示例，提取数据值\n",
    "text = r\"word 121\\23.4 \\t\\s\"\n",
    "pattern = re.compile(r\"\\d+.*\\d\")\n",
    "\n",
    "pattern.search(text).group()"
   ]
  },
  {
   "cell_type": "code",
   "execution_count": null,
   "metadata": {},
   "outputs": [],
   "source": [
    "pattern.groups"
   ]
  },
  {
   "cell_type": "markdown",
   "metadata": {},
   "source": [
    "### 搜索方法\n",
    "在使用 re 库时，可以通过 `search()`, `match()`, `findall()` 进行搜索匹配；使用 `group(n)` 方法可以返回指定匹配字符。此外需要注意一下，`findall()` 方法返回的结果是一个列表"
   ]
  },
  {
   "cell_type": "code",
   "execution_count": null,
   "metadata": {},
   "outputs": [],
   "source": [
    "# match 是表示从头开始搜索\n",
    "text = r\"word 121\\23.4 \\t\\s\"\n",
    "pattern = re.compile(r\"\\d+.*\\d\")\n",
    "\n",
    "print(pattern.match(text))"
   ]
  },
  {
   "cell_type": "code",
   "execution_count": null,
   "metadata": {},
   "outputs": [],
   "source": [
    "# search 表示完整搜索\n",
    "text = r\"word 121\\23.4 \\t\\s\"\n",
    "pattern = re.compile(r\"\\d+.*\\d\")\n",
    "\n",
    "pattern.search(text).group()"
   ]
  },
  {
   "cell_type": "code",
   "execution_count": null,
   "metadata": {},
   "outputs": [],
   "source": [
    "# 使用 findall 方法搜索\n",
    "text = r\"word 121\\23.4 \\t\\s\"\n",
    "pattern = re.compile(r\"\\d+.*\\d\")\n",
    "\n",
    "pattern.findall(text)"
   ]
  },
  {
   "cell_type": "markdown",
   "metadata": {},
   "source": [
    "#### 组合方法使用\n",
    "正则表达式的强大功能在于将以上标识符和其他字符组合使用，这样构造出强大的模式以此来进行筛选或者替换等工作。此外需要注意，在使用 `compile()` 方法时，可以传入 `re.IGNORECASE` 来表示忽略大小写"
   ]
  },
  {
   "cell_type": "code",
   "execution_count": null,
   "metadata": {},
   "outputs": [],
   "source": [
    "text = r\"wordWORD 121\\23.4 \\t\\s\"\n",
    "\n",
    "pattern = re.compile(r\"(word)+\", re.IGNORECASE)\n",
    "\n",
    "pattern.search(text).group()"
   ]
  },
  {
   "cell_type": "code",
   "execution_count": null,
   "metadata": {},
   "outputs": [],
   "source": [
    "# 使用 findall 方法搜索，仅提取出数字\n",
    "text = r\"word 121\\23.4 \\t\\s\"\n",
    "pattern = re.compile(r\"(\\d+\\.?\\d+)\")\n",
    "\n",
    "pattern.findall(text)"
   ]
  }
 ],
 "metadata": {
  "kernelspec": {
   "display_name": "Python [conda env:anaconda3]",
   "language": "python",
   "name": "conda-env-anaconda3-py"
  },
  "language_info": {
   "codemirror_mode": {
    "name": "ipython",
    "version": 3
   },
   "file_extension": ".py",
   "mimetype": "text/x-python",
   "name": "python",
   "nbconvert_exporter": "python",
   "pygments_lexer": "ipython3",
   "version": "3.6.7"
  },
  "latex_envs": {
   "LaTeX_envs_menu_present": true,
   "autoclose": false,
   "autocomplete": true,
   "bibliofile": "biblio.bib",
   "cite_by": "apalike",
   "current_citInitial": 1,
   "eqLabelWithNumbers": true,
   "eqNumInitial": 1,
   "hotkeys": {
    "equation": "Ctrl-E",
    "itemize": "Ctrl-I"
   },
   "labels_anchors": false,
   "latex_user_defs": false,
   "report_style_numbering": false,
   "user_envs_cfg": false
  },
  "toc": {
   "base_numbering": 1,
   "nav_menu": {},
   "number_sections": true,
   "sideBar": true,
   "skip_h1_title": false,
   "title_cell": "Table of Contents",
   "title_sidebar": "Contents",
   "toc_cell": false,
   "toc_position": {},
   "toc_section_display": true,
   "toc_window_display": false
  }
 },
 "nbformat": 4,
 "nbformat_minor": 2
}
