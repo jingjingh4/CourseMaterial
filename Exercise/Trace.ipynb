{
 "cells": [
  {
   "cell_type": "markdown",
   "metadata": {},
   "source": [
    "## TraceMethod\n",
    "创建路径，思路是依据 [在 Tableau 中创建显示起点和终点之间的路径的地图](https://onlinehelp.tableau.com/current/pro/desktop/zh-cn/maps_howto_origin_destination.htm) 指导来做的。依据该该思路来完成创建路径图演示，需要的数据：\n",
    "* 路径序列号——表示是第几个路径，用于区分路线\n",
    "* 点顺序——用于表示每条路径上的点顺序，用于区分每条路线上的先后顺序的点\n",
    "* 经纬度——经纬度数据，尽量在此处处理完全"
   ]
  },
  {
   "cell_type": "code",
   "execution_count": 1,
   "metadata": {},
   "outputs": [],
   "source": [
    "import pandas as pd\n",
    "import numpy as np\n",
    "import seaborn as sns\n",
    "import matplotlib.pyplot as plt\n",
    "import time\n",
    "%matplotlib inline"
   ]
  },
  {
   "cell_type": "code",
   "execution_count": 2,
   "metadata": {},
   "outputs": [],
   "source": [
    "df = pd.read_csv(\"./MobikeData/mobike_shanghai_sample_updated.csv\")"
   ]
  },
  {
   "cell_type": "code",
   "execution_count": 3,
   "metadata": {},
   "outputs": [
    {
     "data": {
      "text/html": [
       "<div>\n",
       "<style scoped>\n",
       "    .dataframe tbody tr th:only-of-type {\n",
       "        vertical-align: middle;\n",
       "    }\n",
       "\n",
       "    .dataframe tbody tr th {\n",
       "        vertical-align: top;\n",
       "    }\n",
       "\n",
       "    .dataframe thead th {\n",
       "        text-align: right;\n",
       "    }\n",
       "</style>\n",
       "<table border=\"1\" class=\"dataframe\">\n",
       "  <thead>\n",
       "    <tr style=\"text-align: right;\">\n",
       "      <th></th>\n",
       "      <th>orderid</th>\n",
       "      <th>bikeid</th>\n",
       "      <th>userid</th>\n",
       "      <th>start_time</th>\n",
       "      <th>start_location_x</th>\n",
       "      <th>start_location_y</th>\n",
       "      <th>end_time</th>\n",
       "      <th>end_location_x</th>\n",
       "      <th>end_location_y</th>\n",
       "      <th>track</th>\n",
       "    </tr>\n",
       "  </thead>\n",
       "  <tbody>\n",
       "    <tr>\n",
       "      <th>0</th>\n",
       "      <td>78387</td>\n",
       "      <td>158357</td>\n",
       "      <td>10080</td>\n",
       "      <td>2016-08-20 06:57</td>\n",
       "      <td>121.348</td>\n",
       "      <td>31.389</td>\n",
       "      <td>2016-08-20 07:04</td>\n",
       "      <td>121.357</td>\n",
       "      <td>31.388</td>\n",
       "      <td>121.347,31.392#121.348,31.389#121.349,31.390#1...</td>\n",
       "    </tr>\n",
       "    <tr>\n",
       "      <th>1</th>\n",
       "      <td>891333</td>\n",
       "      <td>92776</td>\n",
       "      <td>6605</td>\n",
       "      <td>2016-08-29 19:09</td>\n",
       "      <td>121.508</td>\n",
       "      <td>31.279</td>\n",
       "      <td>2016-08-29 19:31</td>\n",
       "      <td>121.489</td>\n",
       "      <td>31.271</td>\n",
       "      <td>121.489,31.270#121.489,31.271#121.490,31.270#1...</td>\n",
       "    </tr>\n",
       "  </tbody>\n",
       "</table>\n",
       "</div>"
      ],
      "text/plain": [
       "   orderid  bikeid  userid        start_time  start_location_x  \\\n",
       "0    78387  158357   10080  2016-08-20 06:57           121.348   \n",
       "1   891333   92776    6605  2016-08-29 19:09           121.508   \n",
       "\n",
       "   start_location_y          end_time  end_location_x  end_location_y  \\\n",
       "0            31.389  2016-08-20 07:04         121.357          31.388   \n",
       "1            31.279  2016-08-29 19:31         121.489          31.271   \n",
       "\n",
       "                                               track  \n",
       "0  121.347,31.392#121.348,31.389#121.349,31.390#1...  \n",
       "1  121.489,31.270#121.489,31.271#121.490,31.270#1...  "
      ]
     },
     "execution_count": 3,
     "metadata": {},
     "output_type": "execute_result"
    }
   ],
   "source": [
    "df.head(2)"
   ]
  },
  {
   "cell_type": "code",
   "execution_count": 4,
   "metadata": {},
   "outputs": [],
   "source": [
    "# 复制需要用于演示的 5 行数据\n",
    "data = df.head(5).copy()"
   ]
  },
  {
   "cell_type": "code",
   "execution_count": 7,
   "metadata": {},
   "outputs": [],
   "source": [
    "# 拆分 track 获取每个路径上的点\n",
    "data = pd.concat([data, data.track.str.split(\"#\", expand=True)], axis=1)"
   ]
  },
  {
   "cell_type": "code",
   "execution_count": 10,
   "metadata": {},
   "outputs": [],
   "source": [
    "# 将每个 track 上的路径点和路径合并，思路上需要将 index 设置为路径编号\n",
    "data = data.reset_index()\n",
    "data.rename({\"index\": \"trace\"}, axis=1,inplace=True)"
   ]
  },
  {
   "cell_type": "code",
   "execution_count": 11,
   "metadata": {},
   "outputs": [
    {
     "data": {
      "text/html": [
       "<div>\n",
       "<style scoped>\n",
       "    .dataframe tbody tr th:only-of-type {\n",
       "        vertical-align: middle;\n",
       "    }\n",
       "\n",
       "    .dataframe tbody tr th {\n",
       "        vertical-align: top;\n",
       "    }\n",
       "\n",
       "    .dataframe thead th {\n",
       "        text-align: right;\n",
       "    }\n",
       "</style>\n",
       "<table border=\"1\" class=\"dataframe\">\n",
       "  <thead>\n",
       "    <tr style=\"text-align: right;\">\n",
       "      <th></th>\n",
       "      <th>level_0</th>\n",
       "      <th>trace</th>\n",
       "      <th>orderid</th>\n",
       "      <th>bikeid</th>\n",
       "      <th>userid</th>\n",
       "      <th>start_time</th>\n",
       "      <th>start_location_x</th>\n",
       "      <th>start_location_y</th>\n",
       "      <th>end_time</th>\n",
       "      <th>end_location_x</th>\n",
       "      <th>...</th>\n",
       "      <th>31</th>\n",
       "      <th>32</th>\n",
       "      <th>33</th>\n",
       "      <th>34</th>\n",
       "      <th>35</th>\n",
       "      <th>36</th>\n",
       "      <th>37</th>\n",
       "      <th>38</th>\n",
       "      <th>39</th>\n",
       "      <th>40</th>\n",
       "    </tr>\n",
       "  </thead>\n",
       "  <tbody>\n",
       "    <tr>\n",
       "      <th>0</th>\n",
       "      <td>0</td>\n",
       "      <td>0</td>\n",
       "      <td>78387</td>\n",
       "      <td>158357</td>\n",
       "      <td>10080</td>\n",
       "      <td>2016-08-20 06:57</td>\n",
       "      <td>121.348</td>\n",
       "      <td>31.389</td>\n",
       "      <td>2016-08-20 07:04</td>\n",
       "      <td>121.357</td>\n",
       "      <td>...</td>\n",
       "      <td>None</td>\n",
       "      <td>None</td>\n",
       "      <td>None</td>\n",
       "      <td>None</td>\n",
       "      <td>None</td>\n",
       "      <td>None</td>\n",
       "      <td>None</td>\n",
       "      <td>None</td>\n",
       "      <td>None</td>\n",
       "      <td>None</td>\n",
       "    </tr>\n",
       "    <tr>\n",
       "      <th>1</th>\n",
       "      <td>1</td>\n",
       "      <td>1</td>\n",
       "      <td>891333</td>\n",
       "      <td>92776</td>\n",
       "      <td>6605</td>\n",
       "      <td>2016-08-29 19:09</td>\n",
       "      <td>121.508</td>\n",
       "      <td>31.279</td>\n",
       "      <td>2016-08-29 19:31</td>\n",
       "      <td>121.489</td>\n",
       "      <td>...</td>\n",
       "      <td>121.506,31.277</td>\n",
       "      <td>121.507,31.277</td>\n",
       "      <td>121.507,31.278</td>\n",
       "      <td>121.507,31.279</td>\n",
       "      <td>121.508,31.279</td>\n",
       "      <td>None</td>\n",
       "      <td>None</td>\n",
       "      <td>None</td>\n",
       "      <td>None</td>\n",
       "      <td>None</td>\n",
       "    </tr>\n",
       "  </tbody>\n",
       "</table>\n",
       "<p>2 rows × 53 columns</p>\n",
       "</div>"
      ],
      "text/plain": [
       "   level_0  trace  orderid  bikeid  userid        start_time  \\\n",
       "0        0      0    78387  158357   10080  2016-08-20 06:57   \n",
       "1        1      1   891333   92776    6605  2016-08-29 19:09   \n",
       "\n",
       "   start_location_x  start_location_y          end_time  end_location_x  ...   \\\n",
       "0           121.348            31.389  2016-08-20 07:04         121.357  ...    \n",
       "1           121.508            31.279  2016-08-29 19:31         121.489  ...    \n",
       "\n",
       "               31              32              33              34  \\\n",
       "0            None            None            None            None   \n",
       "1  121.506,31.277  121.507,31.277  121.507,31.278  121.507,31.279   \n",
       "\n",
       "               35    36    37    38    39    40  \n",
       "0            None  None  None  None  None  None  \n",
       "1  121.508,31.279  None  None  None  None  None  \n",
       "\n",
       "[2 rows x 53 columns]"
      ]
     },
     "execution_count": 11,
     "metadata": {},
     "output_type": "execute_result"
    }
   ],
   "source": [
    "data.head(2)"
   ]
  },
  {
   "cell_type": "code",
   "execution_count": 13,
   "metadata": {},
   "outputs": [],
   "source": [
    "# 转换数据，长数据转宽数据；同时删除缺失值，减少不必要数据\n",
    "data = data.melt(id_vars=[\"trace\"], value_vars=np.r_[0:40], var_name=\"traceOrder\", value_name=\"location\").dropna()"
   ]
  },
  {
   "cell_type": "code",
   "execution_count": 16,
   "metadata": {},
   "outputs": [],
   "source": [
    "# 获取经纬度数据\n",
    "data[[\"longitude\", \"latitude\"]] = data.location.str.split(\",\", expand=True)"
   ]
  },
  {
   "cell_type": "code",
   "execution_count": 17,
   "metadata": {},
   "outputs": [
    {
     "data": {
      "text/html": [
       "<div>\n",
       "<style scoped>\n",
       "    .dataframe tbody tr th:only-of-type {\n",
       "        vertical-align: middle;\n",
       "    }\n",
       "\n",
       "    .dataframe tbody tr th {\n",
       "        vertical-align: top;\n",
       "    }\n",
       "\n",
       "    .dataframe thead th {\n",
       "        text-align: right;\n",
       "    }\n",
       "</style>\n",
       "<table border=\"1\" class=\"dataframe\">\n",
       "  <thead>\n",
       "    <tr style=\"text-align: right;\">\n",
       "      <th></th>\n",
       "      <th>trace</th>\n",
       "      <th>traceOrder</th>\n",
       "      <th>location</th>\n",
       "      <th>longitude</th>\n",
       "      <th>latitude</th>\n",
       "    </tr>\n",
       "  </thead>\n",
       "  <tbody>\n",
       "    <tr>\n",
       "      <th>0</th>\n",
       "      <td>0</td>\n",
       "      <td>0</td>\n",
       "      <td>121.347,31.392</td>\n",
       "      <td>121.347</td>\n",
       "      <td>31.392</td>\n",
       "    </tr>\n",
       "    <tr>\n",
       "      <th>1</th>\n",
       "      <td>1</td>\n",
       "      <td>0</td>\n",
       "      <td>121.489,31.270</td>\n",
       "      <td>121.489</td>\n",
       "      <td>31.270</td>\n",
       "    </tr>\n",
       "    <tr>\n",
       "      <th>2</th>\n",
       "      <td>2</td>\n",
       "      <td>0</td>\n",
       "      <td>121.381,31.251</td>\n",
       "      <td>121.381</td>\n",
       "      <td>31.251</td>\n",
       "    </tr>\n",
       "    <tr>\n",
       "      <th>3</th>\n",
       "      <td>3</td>\n",
       "      <td>0</td>\n",
       "      <td>121.471,31.325</td>\n",
       "      <td>121.471</td>\n",
       "      <td>31.325</td>\n",
       "    </tr>\n",
       "    <tr>\n",
       "      <th>4</th>\n",
       "      <td>4</td>\n",
       "      <td>0</td>\n",
       "      <td>121.407,31.291</td>\n",
       "      <td>121.407</td>\n",
       "      <td>31.291</td>\n",
       "    </tr>\n",
       "  </tbody>\n",
       "</table>\n",
       "</div>"
      ],
      "text/plain": [
       "   trace traceOrder        location longitude latitude\n",
       "0      0          0  121.347,31.392   121.347   31.392\n",
       "1      1          0  121.489,31.270   121.489   31.270\n",
       "2      2          0  121.381,31.251   121.381   31.251\n",
       "3      3          0  121.471,31.325   121.471   31.325\n",
       "4      4          0  121.407,31.291   121.407   31.291"
      ]
     },
     "execution_count": 17,
     "metadata": {},
     "output_type": "execute_result"
    }
   ],
   "source": [
    "# 检查数据以及保存数据\n",
    "data.head()"
   ]
  },
  {
   "cell_type": "code",
   "execution_count": 18,
   "metadata": {},
   "outputs": [],
   "source": [
    "data.to_csv(\"./data/mobike_trace.csv\", index=False)"
   ]
  },
  {
   "cell_type": "markdown",
   "metadata": {},
   "source": [
    "## 接下来使用 Tableau 进行绘制路径图\n",
    "视频可以观看 [路径图 Tableau](https://www.bilibili.com/video/av45617983/)"
   ]
  },
  {
   "cell_type": "markdown",
   "metadata": {},
   "source": [
    "![](https://ws4.sinaimg.cn/large/006tKfTcly1g0tb4g5kz8j31gi0u01cg.jpg)"
   ]
  }
 ],
 "metadata": {
  "kernelspec": {
   "display_name": "Python [conda env:anaconda3]",
   "language": "python",
   "name": "conda-env-anaconda3-py"
  },
  "language_info": {
   "codemirror_mode": {
    "name": "ipython",
    "version": 3
   },
   "file_extension": ".py",
   "mimetype": "text/x-python",
   "name": "python",
   "nbconvert_exporter": "python",
   "pygments_lexer": "ipython3",
   "version": "3.6.6"
  },
  "latex_envs": {
   "LaTeX_envs_menu_present": true,
   "autoclose": false,
   "autocomplete": true,
   "bibliofile": "biblio.bib",
   "cite_by": "apalike",
   "current_citInitial": 1,
   "eqLabelWithNumbers": true,
   "eqNumInitial": 1,
   "hotkeys": {
    "equation": "Ctrl-E",
    "itemize": "Ctrl-I"
   },
   "labels_anchors": false,
   "latex_user_defs": false,
   "report_style_numbering": false,
   "user_envs_cfg": false
  },
  "toc": {
   "base_numbering": 1,
   "nav_menu": {},
   "number_sections": true,
   "sideBar": true,
   "skip_h1_title": false,
   "title_cell": "Table of Contents",
   "title_sidebar": "Contents",
   "toc_cell": false,
   "toc_position": {},
   "toc_section_display": true,
   "toc_window_display": false
  }
 },
 "nbformat": 4,
 "nbformat_minor": 2
}
