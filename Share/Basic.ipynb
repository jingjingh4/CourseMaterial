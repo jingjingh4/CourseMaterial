{
 "cells": [
  {
   "cell_type": "markdown",
   "metadata": {},
   "source": [
    "### 说明\n",
    "该 notebook 是针对进阶学员，使用的目的是回顾以及熟悉 Python 的基本内容。涉及的内容包括：\n",
    "1. 变量\n",
    "   - 全局变量\n",
    "   - 局部变量\n",
    "2. 数据类型及其方法\n",
    "3. 控制流\n",
    "   - if 语句\n",
    "   - 循环\n",
    "4. 脚本与函数"
   ]
  },
  {
   "cell_type": "code",
   "execution_count": null,
   "metadata": {},
   "outputs": [],
   "source": [
    "import random"
   ]
  },
  {
   "cell_type": "markdown",
   "metadata": {},
   "source": [
    "### 变量\n",
    "变量引用的对象具有一定的生命周期，而且又因为其作用域（Scope）差异可以将变量的类型分为全局变量、局部变量以及静态变量、实例变量（后两者和 Class 相关，在数据分析的角度来说不需要详细了解）。此处主要从全局变量和局部变量两个角度来说。接下来的练习中将主要用于去理解全局变量和局部变量"
   ]
  },
  {
   "cell_type": "code",
   "execution_count": null,
   "metadata": {},
   "outputs": [],
   "source": [
    "var9 = 12\n",
    "\n",
    "def change_variable():\n",
    "    var9 = 13\n",
    "    var12 = 34\n",
    "# 运行函数\n",
    "change_variable()"
   ]
  },
  {
   "cell_type": "markdown",
   "metadata": {},
   "source": [
    "**练习**  \n",
    "说明运行上面的函数是否会改变 var9 这个变量？第一行的 var9 的变量是全局变量吗？var12 是局部变量吗？"
   ]
  },
  {
   "cell_type": "code",
   "execution_count": null,
   "metadata": {},
   "outputs": [],
   "source": [
    "var9 = {\"a\":12, \"b\": 3, \"c\":4}\n",
    "\n",
    "def change_variable():\n",
    "    var9[\"d\"] = 9\n",
    "    \n",
    "change_variable(); print(var9)"
   ]
  },
  {
   "cell_type": "markdown",
   "metadata": {},
   "source": [
    "**练习**  \n",
    "理解一下上面代码中，因为数据类型而导致的数据变化"
   ]
  },
  {
   "cell_type": "code",
   "execution_count": null,
   "metadata": {},
   "outputs": [],
   "source": [
    "var9 = {\"a\":12, \"b\": 3, \"c\":4}\n",
    "\n",
    "def change_variable():\n",
    "    var9[\"d\"] = 9\n",
    "    var9 = 12\n",
    "    \n",
    "change_variable()\n",
    "print(var9)"
   ]
  },
  {
   "cell_type": "markdown",
   "metadata": {},
   "source": [
    "**练习**  \n",
    "1. 用已有的知识解决上面代码中的报错问题，**要求：** 不能删除第 5 行数据。**提示：** 从变量引用去理解以上代码，解决该问题需要从函数传入参数去解决\n",
    "2. 解释代码正常运行之后，全局中的 var9 变量值发生变更了吗"
   ]
  },
  {
   "cell_type": "markdown",
   "metadata": {},
   "source": [
    "### 数据类型\n",
    "数值型数据，包括整型数据和浮点数型数据。从表面上来看就是有没有小数位数的差异——2 和 2.0 是两种不同的数据类型。两者可以互相转换直接使用对应的 int() 后者 float() 方法可显性强制转换。此外还需要注意，浮点数和整型数据相乘的结果是浮点数。"
   ]
  },
  {
   "cell_type": "markdown",
   "metadata": {},
   "source": [
    "**练习：**  \n",
    "在下面第三行中输入，测试变量的数据类型的方法"
   ]
  },
  {
   "cell_type": "code",
   "execution_count": null,
   "metadata": {},
   "outputs": [],
   "source": [
    "var9 = 12\n",
    "# 思考使用什么方法去得到 var9 的数据类型\n"
   ]
  },
  {
   "cell_type": "markdown",
   "metadata": {},
   "source": [
    "**练习：**  \n",
    "怎么样通过自我求助的方式去看变量或者说数据的方法，例如在 Linux 或者 Mac 中可以在 terminal 中输入 man ls 以查看 ls 的帮助信息。**目的：**该练习的目的是解决不熟悉数据类型下的方法的自助"
   ]
  },
  {
   "cell_type": "code",
   "execution_count": null,
   "metadata": {},
   "outputs": [],
   "source": [
    "var9 = dict(a='2')\n",
    "# 思考使用什么方法可以得到 var9 的帮助信息，可以使用方法不仅仅一种\n"
   ]
  },
  {
   "cell_type": "markdown",
   "metadata": {},
   "source": [
    "**练习：**  \n",
    "在下面的 cell 中去输入代码解决如下问题：\n",
    "\n",
    "1. 创建一个空列表，即不包括任何元素\n",
    "2. 创建一个空字典，不包括任何键值对\n",
    "3. 创建一个空集合，不包括任何元素\n",
    "\n",
    "⚠️注意又些类型可以有多种方法。**提示：**可以考虑直接实例化一个对象"
   ]
  },
  {
   "cell_type": "code",
   "execution_count": null,
   "metadata": {},
   "outputs": [],
   "source": [
    "# 在下面创建一个空列表给一个变量\n",
    "var9 = \n",
    "\n",
    "# 在下面对该列表添加元素\n",
    "\n",
    "# 在下面创建一个空字典，不包括任何键值对\n",
    "var12 = \n",
    "\n",
    "# 在该字典中添加一个空列表值，键任意取\n",
    "\n",
    "\n",
    "# 在下面创建一个空集合\n",
    "var13 = \n",
    "\n",
    "# 罗列出集合可以使用的方法\n",
    "\n"
   ]
  },
  {
   "cell_type": "markdown",
   "metadata": {},
   "source": [
    "**练习：**  \n",
    "1. 判断以下数据的布尔值，解释最后一个数据的布尔值存在差异的原因   \n",
    "0, [], [\"\"]\n",
    "\n",
    "2. 说明一下怎么样创建复合条件，**提示：**布尔值的逻辑连接词及其简写方式。⚠️注意在使用逻辑连接词的时候，pandas 的 query 方法存在差异，某些方式会报错"
   ]
  },
  {
   "cell_type": "code",
   "execution_count": null,
   "metadata": {},
   "outputs": [],
   "source": [
    "bool(0), bool([]), bool([\"\"])"
   ]
  },
  {
   "cell_type": "markdown",
   "metadata": {},
   "source": [
    "### 控制流\n",
    "控制流包括了条件语句和循环语句，"
   ]
  },
  {
   "cell_type": "markdown",
   "metadata": {},
   "source": [
    "**练习：**  \n",
    "尝试解决下面的问题"
   ]
  },
  {
   "cell_type": "code",
   "execution_count": null,
   "metadata": {},
   "outputs": [],
   "source": [
    "# 计算下列数据中大于 2，且小于 10 的数据个数，提示：True 值可以被当作 1 来处理，而 False 被当作 0 来处理，可以引入其他 package\n",
    "# 也可考虑使用条件语句来解答\n",
    "var9 = [random.randint(0, 15) for _ in range(100)]\n",
    "\n",
    "# 计算大于 10，或者小于 2 的数据个数\n"
   ]
  },
  {
   "cell_type": "code",
   "execution_count": null,
   "metadata": {},
   "outputs": [],
   "source": [
    "# 不使用上面 cell 中列表解析的方式，得到具有 100 个元素的列表\n"
   ]
  },
  {
   "cell_type": "markdown",
   "metadata": {},
   "source": [
    "python 的 for 语句中可以使用 else，但是它的逻辑和条件语句 else 不同，尝试运行一下下面的代码——需要将 False 改为 True"
   ]
  },
  {
   "cell_type": "code",
   "execution_count": null,
   "metadata": {},
   "outputs": [],
   "source": [
    "if False:\n",
    "    for i in range(10):\n",
    "        print(i ** 2)\n",
    "    else:\n",
    "        print(\"Done!\")\n",
    "if False:\n",
    "    for i in range(10, -2, -1):\n",
    "        print(12 / i)\n",
    "    else:\n",
    "        print(\"Done\")"
   ]
  },
  {
   "cell_type": "code",
   "execution_count": null,
   "metadata": {},
   "outputs": [],
   "source": []
  }
 ],
 "metadata": {
  "kernelspec": {
   "display_name": "Python [conda env:anaconda3]",
   "language": "python",
   "name": "conda-env-anaconda3-py"
  },
  "language_info": {
   "codemirror_mode": {
    "name": "ipython",
    "version": 3
   },
   "file_extension": ".py",
   "mimetype": "text/x-python",
   "name": "python",
   "nbconvert_exporter": "python",
   "pygments_lexer": "ipython3",
   "version": "3.6.6"
  },
  "latex_envs": {
   "LaTeX_envs_menu_present": true,
   "autoclose": false,
   "autocomplete": true,
   "bibliofile": "biblio.bib",
   "cite_by": "apalike",
   "current_citInitial": 1,
   "eqLabelWithNumbers": true,
   "eqNumInitial": 1,
   "hotkeys": {
    "equation": "Ctrl-E",
    "itemize": "Ctrl-I"
   },
   "labels_anchors": false,
   "latex_user_defs": false,
   "report_style_numbering": false,
   "user_envs_cfg": false
  },
  "toc": {
   "base_numbering": 1,
   "nav_menu": {},
   "number_sections": true,
   "sideBar": true,
   "skip_h1_title": false,
   "title_cell": "Table of Contents",
   "title_sidebar": "Contents",
   "toc_cell": false,
   "toc_position": {},
   "toc_section_display": true,
   "toc_window_display": false
  }
 },
 "nbformat": 4,
 "nbformat_minor": 2
}
