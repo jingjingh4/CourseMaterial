{
 "cells": [
  {
   "cell_type": "code",
   "execution_count": 1,
   "metadata": {
    "code_folding": [
     0
    ]
   },
   "outputs": [
    {
     "data": {
      "text/html": [
       "<style>.container { width:100% !important; }</style>"
      ],
      "text/plain": [
       "<IPython.core.display.HTML object>"
      ]
     },
     "metadata": {},
     "output_type": "display_data"
    }
   ],
   "source": [
    "# change the cell width\n",
    "from IPython.core.display import display, HTML\n",
    "display(HTML(\"<style>.container { width:100% !important; }</style>\"))"
   ]
  },
  {
   "cell_type": "markdown",
   "metadata": {},
   "source": [
    "### 说明\n",
    "该 notebook 是针对进阶学员，使用的目的是回顾以及熟悉 Python 的基本内容。本次的练习内容承接上次的 [Basic.ipynb](./Basic.ipynb) 内容，主题内容包括一些高阶内容：\n",
    "\n",
    "1. 高阶处理\n",
    "   - 匿名函数——lambda 使用\n",
    "   - 元组解与函数参数\n",
    "   - 迭代器和生成器\n",
    "2. 脚本\n",
    "   - 脚本导入和调用\n",
    "3. Pandas 的实际操作\n",
    "   - 数据筛选\n",
    "   - apply 和 applymap 数据处理\n",
    "\n",
    "4. 快捷键使用指导"
   ]
  },
  {
   "cell_type": "code",
   "execution_count": null,
   "metadata": {},
   "outputs": [],
   "source": [
    "import pandas as pd\n",
    "import numpy as np\n",
    "from string import ascii_lowercase, ascii_letters"
   ]
  },
  {
   "cell_type": "markdown",
   "metadata": {},
   "source": [
    "### 高阶处理\n",
    "#### 匿名函数——lambda \n",
    "lambda 是其中一种生成函数对象的表达式形式（另一种是通过 def 语句来完成）。它的特点是返回了一个函数，而非将这个函数赋值给一个变量名，这也是有时候将 lambda 函数叫做匿名函数的原因——实际上它可以将其赋值给一个变量，这样它就有一个“名称“了。在形式上，它的结构是：\n",
    "\n",
    "```\n",
    "lambda_expr  ::=  \"lambda\" [parameter_list]: expression\n",
    "\n",
    "# 在理解它的功能上可以和 def 定义函数来解读\n",
    "def <lambda>(parameters):\n",
    "    return expression\n",
    "```\n",
    "\n",
    "此外对于 lambda 的角色定义，**lambda 是一个表达式**，它的目的是通过设计简单的函数来处理一些简单问题——因为它的表达式特点，限制了它在使用范围上没有 def 定义的函数广泛，换句话说 lambda 的目的就是解决用 def 定义的函数能解决的小问题。\n",
    "\n",
    "下面举一个例子将 lambda 表达式赋值给一个变量，这样 lambda 就是具有一个“名称”：\n",
    "```\n",
    "func = lambda x: x**2\n",
    "\n",
    "func(12)\n",
    "# output\n",
    "144\n",
    "```\n"
   ]
  },
  {
   "cell_type": "code",
   "execution_count": null,
   "metadata": {},
   "outputs": [],
   "source": [
    "# 将下面的 def 定义的函数转换为一个 lambda 表达式，为了方便调用，可以将其赋值给一个变量\n",
    "def test(a, b, c):\n",
    "    # add the number\n",
    "    return a + b + c\n",
    "\n",
    "# 在下面完成练习\n"
   ]
  },
  {
   "cell_type": "markdown",
   "metadata": {},
   "source": [
    "lambda 在完成某些小功能方面具有代码更简洁的作用，一般情况下可以配合 Python 中高阶方法例如 `filter`, `map` 以及 `reduce` 等函数或方法结合使用，另外在 Pandas 中结合 apply 方法使用。"
   ]
  },
  {
   "cell_type": "code",
   "execution_count": null,
   "metadata": {},
   "outputs": [],
   "source": [
    "# 下面举例，将 def 定义函数应用到其他函数或者方法中，请将 def 语句转换为 lambda 表达式\n",
    "var = np.random.randint(-20, 20, 10)\n",
    "\n",
    "\n",
    "def test_filter(x):\n",
    "    if x >= 0:\n",
    "        return True\n",
    "\n",
    "# 使用 filter 筛选大于等于 0 的数值\n",
    "list(filter(test_filter, var))\n",
    "\n",
    "# 请使用 lamdba 解决上面的问题\n"
   ]
  },
  {
   "cell_type": "code",
   "execution_count": null,
   "metadata": {},
   "outputs": [],
   "source": [
    "# 使用 map 将数据平方处理\n",
    "def test_map(x):\n",
    "    return x ** 2\n",
    "\n",
    "print(list(map(test_map, var)))\n",
    "\n",
    "# 请使用 lambda 解决上面的问题\n"
   ]
  },
  {
   "cell_type": "code",
   "execution_count": null,
   "metadata": {},
   "outputs": [],
   "source": [
    "# 使用 reduce 将序列中的数据进行累计处理\n",
    "from functools import reduce\n",
    "\n",
    "# 将下面的 test_reduce 转换为 lambda \n",
    "def test_reduce(x, y):\n",
    "    return x + y\n",
    "\n",
    "print(reduce(test_reduce, var))\n"
   ]
  },
  {
   "cell_type": "code",
   "execution_count": null,
   "metadata": {},
   "outputs": [],
   "source": [
    "def test_reduce1(x, y):\n",
    "    return x * y\n",
    "\n",
    "print(reduce(test_reduce1, var))\n",
    "\n",
    "# 将下面的 test_reduce1 转换为 lambda\n"
   ]
  },
  {
   "cell_type": "markdown",
   "metadata": {},
   "source": [
    "#### 元组解包与函数参数\n",
    "元组解包的重要作用是，将元组中的数据“打开”传给其他函数、方法或者对象中使用，需要注意⚠️元组不能单独使用 `*tuple` 是会报错的——`SyntaxError: can't use starred expression here`。在理解元组解包方面建议结合函数的角度来看，首先看一下下面的函数定义：\n",
    "```\n",
    "def functon_name(value, name=value1, *args, **kwargs):\n",
    "    function_body\n",
    "```\n",
    "\n",
    "在上面定义的函数中分别定义了需要的几种参数，`value` 是位置参数，`name=value1` 是默认值参数，`*args` 和 `**kwargs` 定义的是两个可变参数——使用 `*` 表示将参数集合拆开，这个集合中的数据可能是元组（这里就可以和元组解包结合起来理解），也可能是一个 `key-value` 对的数据（类似于字典）"
   ]
  },
  {
   "cell_type": "code",
   "execution_count": null,
   "metadata": {},
   "outputs": [],
   "source": [
    "# 首先我们理解下面两个函数\n",
    "def test(a, b):\n",
    "    return a + b\n",
    "\n",
    "print(test(1, 2))\n",
    "\n",
    "# 下面重新解构一下 test 函数\n",
    "def test1(*args):\n",
    "    return args[0] + args[1]"
   ]
  },
  {
   "cell_type": "code",
   "execution_count": null,
   "metadata": {},
   "outputs": [],
   "source": [
    "# 通过下面的两个代码去理解元组解包\n",
    "test1(1, 2), test(*(1, 2)), test(1, 2)"
   ]
  },
  {
   "cell_type": "markdown",
   "metadata": {},
   "source": [
    "下面有两个练习：  \n",
    "1. 练习：使用元组解包的方式补充需要的数据\n",
    "2. 练习：以元组解包的角度，来解读一下下面的语句"
   ]
  },
  {
   "cell_type": "code",
   "execution_count": null,
   "metadata": {},
   "outputs": [],
   "source": [
    "# 练习：使用元组解包的方式补充需要的数据\n",
    "print(\"1 = {0}, 2 = {1}, 3 = {2}\".format()) # 在括号内填充数据"
   ]
  },
  {
   "cell_type": "code",
   "execution_count": null,
   "metadata": {},
   "outputs": [],
   "source": [
    "# 练习：以元组解包的角度，来解读一下下面的语句\n",
    "list(zip(*([1, 2], [3, 4], [5, 6])))"
   ]
  },
  {
   "cell_type": "code",
   "execution_count": null,
   "metadata": {},
   "outputs": [],
   "source": [
    "# 接下来继续看看另一个关键字参数\n",
    "def test(b=3):\n",
    "    return b ** 3\n",
    "\n",
    "print(test(b=12))\n",
    "\n",
    "\n",
    "# 下面重新解构一下 test 函数\n",
    "def test1(**kwargs):\n",
    "    return kwargs[\"b\"] ** 3"
   ]
  },
  {
   "cell_type": "code",
   "execution_count": null,
   "metadata": {},
   "outputs": [],
   "source": [
    "test1(b=12), test1(b=12), test1(**{\"b\":12})"
   ]
  },
  {
   "cell_type": "markdown",
   "metadata": {},
   "source": [
    "#### 迭代器和生成器\n",
    "在 [Basic.md](./Share/Basic.md) 中已经简要描述了迭代器和生成器，这里主要是去看看数据怎么跳转——因为不是通过 `return` 语句直接将数据完全传出，通过 `yield` 来实现数据的异步，对处理大型数据非常有用；此外需要注意就是 `yield` 数据传出处理完之后会继续处理 `yield` 之后的语句。详细的视频内容可以参考 [python 的 yield 传递数值方式](https://www.bilibili.com/video/av23757923)"
   ]
  },
  {
   "cell_type": "code",
   "execution_count": null,
   "metadata": {},
   "outputs": [],
   "source": [
    "# 利用 debug 方式来体现 yield 怎么传输数据，可以复制以下代码自己尝试\n",
    "\n",
    "def yield_test(n):\n",
    "    init_number = 0\n",
    "\n",
    "    while init_number <= n:\n",
    "        print(\"-\"*20)\n",
    "        print(\"现在位置是生成器函数体体内\")\n",
    "\n",
    "        print(\"yield 表达式传输的元素是 %d\" % n)\n",
    "        \n",
    "        yield n\n",
    "\n",
    "        print(\"回到生成器函数，完成函数体内的语句\")\n",
    "        print(\"-\" * 20 + \"\\n\")\n",
    "\n",
    "        n -= 1\n",
    "\n",
    "\n",
    "for i in yield_test(3):\n",
    "    print(\"=\" * 20)\n",
    "    print(\"现在位置是在生成器函数外， i 的值是 %d\" % i)\n",
    "\n",
    "    print(\"yield 语句传输的元素之进行平方处理值是 %d\" % i ** 2)\n",
    "    print(\"=\" * 20 + \"\\n\")"
   ]
  },
  {
   "cell_type": "markdown",
   "metadata": {},
   "source": [
    "### 脚本和 Pandas\n",
    "#### 数据筛选\n",
    "因为本次内容并不是单纯去将怎么运行脚本——`python [option] file.py [parameter]`，重点是放在脚本导入。因此这一部分将结合 `apply` 等方法一起讲解。而数据处理方面，首要问题是怎么数据选择，因此重点放在怎么进行数据筛选方面。Pandas 的数据筛选方法上，常用的有 `loc`, `iloc`, `query`"
   ]
  },
  {
   "cell_type": "code",
   "execution_count": null,
   "metadata": {},
   "outputs": [],
   "source": [
    "data = {\n",
    "    \"time\": pd.date_range('20190101', periods=15),\n",
    "    \"A\": np.random.randint(-20, 20, 15),\n",
    "    \"B\": np.random.choice(list(ascii_lowercase), 15)\n",
    "}\n",
    "\n",
    "\n",
    "df = pd.DataFrame(data, columns=[\"time\", \"A\", \"B\"])\n",
    "\n",
    "df[\"C\"] = df[\"A\"] ** 2\n",
    "df[\"COL_D\"] = df.A.apply(abs)\n",
    "df[\"COL_E\"] = df.A * -1"
   ]
  },
  {
   "cell_type": "code",
   "execution_count": null,
   "metadata": {},
   "outputs": [],
   "source": [
    "df.head(2)"
   ]
  },
  {
   "cell_type": "code",
   "execution_count": null,
   "metadata": {},
   "outputs": [],
   "source": [
    "# 如果是简单的列筛选，可以通过[column]， loc[:, column] 和 iloc[:, column_index]， \n",
    "# 尝试使用三种筛选 col_A 的数据\n"
   ]
  },
  {
   "cell_type": "code",
   "execution_count": null,
   "metadata": {},
   "outputs": [],
   "source": [
    "# 使用简单行筛选建议使用 loc[row, :] 和 iloc[row_index, :]， 不推荐是使用[row] 的方式，\n",
    "# 尝试以上两种方法筛选第二行和第三行数据，💣⚠️这里在使用数字进行行筛选的时候 loc 和 iloc \n",
    "# 表达结果不一样\n",
    "\n"
   ]
  },
  {
   "cell_type": "markdown",
   "metadata": {},
   "source": [
    "在进行数据筛选的中，掩码方式是非常常用的，只要能够得到 True 或者 False 的数据，下面说明 query 以及之前两种方式上的数据筛选。  \n",
    "1. query 筛选 query 的数据筛选可以结合 SQL 语句中 WHERE 子句。在使用中就是将条件语句放在了字符串中使用，例如下面的 WHERE 子句放入到 query 语句中就是——`df.query(\"col1 < 5\")`\n",
    "    ```\n",
    "    SELECT * FROM df WHERE col1 < 5;\n",
    "    ```\n",
    "    \n",
    "2. 如果使用直接筛选和 loc 同样可以达到相同的目的，使用方式上是：\n",
    "    ```\n",
    "    # 使用直接筛选的方式\n",
    "    df[df[\"col1\"] < 5]\n",
    "    \n",
    "    # 如果是使用 loc 的方式\n",
    "    df.loc[df[\"col1\"] < 5, :]\n",
    "    ```\n",
    "    \n",
    "从上面的演示使用了三种不同的方式，过程上都是通过创建一个比较表达式来进行筛选。下面有几个练习：\n",
    "\n",
    "* 筛选 A 列中为正数的数据\n",
    "* 筛选 A 列为正数且 C 列中数据为大于 20 的数据（注意⚠️这里的数据是随机生成的，可能结果中为空，即 C 列都是小于等于 20 \n",
    "* 仅筛选出列名称中包含了 COL 的数据（提示：可以对列名称进行处理得到列名称的 True 或者 False，之后使用 `df.loc[:, condition_expresion]` 就可以得到相应的结果）"
   ]
  },
  {
   "cell_type": "code",
   "execution_count": null,
   "metadata": {},
   "outputs": [],
   "source": [
    "# 筛选 A 列中为正数的数据\n"
   ]
  },
  {
   "cell_type": "code",
   "execution_count": null,
   "metadata": {},
   "outputs": [],
   "source": [
    "# 筛选 A 列为正数且 C 列中数据为大于 20 的数据\n"
   ]
  },
  {
   "cell_type": "code",
   "execution_count": null,
   "metadata": {},
   "outputs": [],
   "source": [
    "# 仅筛选出列名称中包含了 COL 的数据\n"
   ]
  },
  {
   "cell_type": "markdown",
   "metadata": {},
   "source": [
    "#### apply 和 applymap\n",
    "apply 和 applymap 都是采用 broadcasting 的机制对数据进行遍历，通过可调用对象来进行处理数据。先说一下两者特点：\n",
    "\n",
    "1. apply 方法需要区分 DataFrame 和 Series 数据类型上的差异，差异主要体现在是否可以使用 axis 参数（Series 没有该参数，当然 DataFrame 下还有其他参数）\n",
    "    * Series 中的 apply 方法，相当于遍历 Series 中的数据并通过 func 函数进行处理\n",
    "    ```\n",
    "    df['column'].apply(func, args=(arg1=a,arg2=b, ))\n",
    "    \n",
    "    # 从理解上来说相当于是下面的循环处理\n",
    "    result = []\n",
    "    for x in df[\"column\"]:\n",
    "        result.append(func(x=x, arg1=a, arg2=b))\n",
    "    \n",
    "    df[\"column\"] = result\n",
    "    ```\n",
    "    * DataFrame 中 apply 方法，需要通过 axis 为 0 (或者 \"index\") 和 1 (或者 \"columns\")。当传入 axis 为 0 时，和上面遍历行数据的形式是一样的，结果上是各列的数据\n",
    "    * 如果传入的是 axis 为 1 时，分别是从从左到右分别对数据进行处理\n",
    "    \n",
    "    需要详细比较两者的差别，可以通过下图来理解：\n",
    "    ![](http://upload-images.jianshu.io/upload_images/2233157-b77105789e36c847.jpg?imageMogr2/auto-orient/strip%7CimageView2/2/w/1240)\n",
    "    \n",
    "2. applymap，是对 DataFrame 的每个 cell 中的数据进行处理，处理方案采用传入的 func 来处理—— `DataFrame.applymap(func)`\n",
    "\n",
    "下面是几个练习：\n",
    "\n",
    "* 使用 apply 的方法，筛选出 A 列中为负数的数值乘以 2, 正数乘以 3\n",
    "* 使用 applymap 对 B、C 列乘以 2\n",
    "* 使用 apply 的方法，将 COL_D 和 COL_E 相加（提示需要调整 axis 参数）"
   ]
  },
  {
   "cell_type": "code",
   "execution_count": null,
   "metadata": {},
   "outputs": [],
   "source": [
    "# 使用 apply 的方法，筛选出 A 列中为负数的数值乘以 2, 正数乘以 3\n"
   ]
  },
  {
   "cell_type": "code",
   "execution_count": null,
   "metadata": {},
   "outputs": [],
   "source": [
    "# 使用 applymap 对 B、C 列乘以 2\n"
   ]
  },
  {
   "cell_type": "code",
   "execution_count": null,
   "metadata": {},
   "outputs": [],
   "source": [
    "# 使用 apply 的方法，将 COL_D 和 COL_E 相加（提示需要调整 axis 参数）\n"
   ]
  },
  {
   "cell_type": "markdown",
   "metadata": {},
   "source": [
    "#### 脚本\n",
    "脚本部分主要集中在脚本书写和脚本导入，在书写脚本的时候可以写类或者函数。目前主要是写一些功能性函数，这样方便调用和管理。在调用方面，涉及到脚本的导入问题。导入的形式上和一般导入 package 的形式是一样的（不需要添加 `.py` 扩展名）。下面假设有一个 `test.py` 的脚本文件，接下将直接演示通过写脚本的方式来完成上面的三个问题"
   ]
  },
  {
   "cell_type": "code",
   "execution_count": null,
   "metadata": {},
   "outputs": [],
   "source": [
    "from imp import reload\n",
    "# 导入脚本\n",
    "import test\n"
   ]
  },
  {
   "cell_type": "code",
   "execution_count": null,
   "metadata": {
    "scrolled": true
   },
   "outputs": [],
   "source": [
    "reload(test)"
   ]
  },
  {
   "cell_type": "markdown",
   "metadata": {},
   "source": [
    "### 参考\n",
    "1. [10 Minutes to pandas — pandas 0.23.4 documentation](https://pandas.pydata.org/pandas-docs/stable/10min.html#selection)"
   ]
  }
 ],
 "metadata": {
  "kernelspec": {
   "display_name": "Python [conda env:anaconda3]",
   "language": "python",
   "name": "conda-env-anaconda3-py"
  },
  "language_info": {
   "codemirror_mode": {
    "name": "ipython",
    "version": 3
   },
   "file_extension": ".py",
   "mimetype": "text/x-python",
   "name": "python",
   "nbconvert_exporter": "python",
   "pygments_lexer": "ipython3",
   "version": "3.6.6"
  },
  "latex_envs": {
   "LaTeX_envs_menu_present": true,
   "autoclose": false,
   "autocomplete": true,
   "bibliofile": "biblio.bib",
   "cite_by": "apalike",
   "current_citInitial": 1,
   "eqLabelWithNumbers": true,
   "eqNumInitial": 1,
   "hotkeys": {
    "equation": "Ctrl-E",
    "itemize": "Ctrl-I"
   },
   "labels_anchors": false,
   "latex_user_defs": false,
   "report_style_numbering": false,
   "user_envs_cfg": false
  },
  "toc": {
   "base_numbering": 1,
   "nav_menu": {},
   "number_sections": true,
   "sideBar": true,
   "skip_h1_title": false,
   "title_cell": "Table of Contents",
   "title_sidebar": "Contents",
   "toc_cell": false,
   "toc_position": {},
   "toc_section_display": true,
   "toc_window_display": false
  }
 },
 "nbformat": 4,
 "nbformat_minor": 2
}
